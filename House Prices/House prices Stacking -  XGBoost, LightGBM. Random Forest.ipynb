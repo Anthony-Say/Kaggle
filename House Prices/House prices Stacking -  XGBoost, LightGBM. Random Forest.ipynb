{
 "cells": [
  {
   "cell_type": "code",
   "execution_count": 2,
   "id": "60ca4ccb",
   "metadata": {
    "scrolled": true
   },
   "outputs": [],
   "source": [
    "import numpy as np\n",
    "import pandas as pd\n",
    "pd.options.display.max_rows = 100\n",
    "from sklearn.metrics import mean_squared_error\n",
    "from sklearn.linear_model import LinearRegression, Lasso\n",
    "from sklearn.preprocessing import LabelEncoder\n",
    "from sklearn.model_selection import train_test_split\n",
    "from xgboost import XGBRegressor\n",
    "from sklearn.ensemble import RandomForestRegressor\n",
    "from sklearn.model_selection import RandomizedSearchCV\n",
    "from sklearn.model_selection import KFold\n",
    "from sklearn.preprocessing import StandardScaler\n",
    "from scipy.sparse import csr_matrix\n",
    "import seaborn as sns\n",
    "from sklearn.ensemble import StackingRegressor\n",
    "from lightgbm import LGBMRegressor\n",
    "import matplotlib.pyplot as plt\n",
    "import warnings\n",
    "warnings.filterwarnings(\"ignore\")"
   ]
  },
  {
   "cell_type": "markdown",
   "id": "e4798dd6",
   "metadata": {},
   "source": [
    "Ссылка на соревнование Kaggle https://www.kaggle.com/competitions/house-prices-advanced-regression-techniques/"
   ]
  },
  {
   "cell_type": "markdown",
   "id": "3b70a9e1",
   "metadata": {},
   "source": [
    "<h3 align='left'>Функция формирования посылки на Kaggle</h3>"
   ]
  },
  {
   "cell_type": "code",
   "execution_count": 2,
   "id": "f22fdbeb",
   "metadata": {},
   "outputs": [],
   "source": [
    "def kaggle_sub(y_pred):\n",
    "    sub = pd.read_csv('sample_submission.csv')\n",
    "    sub['SalePrice'] = y_pred\n",
    "    sub.to_csv('prediction.csv', index=False)"
   ]
  },
  {
   "cell_type": "markdown",
   "id": "fd4c2389",
   "metadata": {},
   "source": [
    "<h3 align='left'>Считывание и начальная предобработка данных</h3>"
   ]
  },
  {
   "cell_type": "code",
   "execution_count": 3,
   "id": "c0c75807",
   "metadata": {},
   "outputs": [],
   "source": [
    "X_train_full = train = pd.read_csv('train.csv', index_col='Id')\n",
    "X_test = pd.read_csv('test.csv', index_col='Id')"
   ]
  },
  {
   "cell_type": "code",
   "execution_count": 4,
   "id": "abfcc3ec",
   "metadata": {},
   "outputs": [
    {
     "data": {
      "text/html": [
       "<div>\n",
       "<style scoped>\n",
       "    .dataframe tbody tr th:only-of-type {\n",
       "        vertical-align: middle;\n",
       "    }\n",
       "\n",
       "    .dataframe tbody tr th {\n",
       "        vertical-align: top;\n",
       "    }\n",
       "\n",
       "    .dataframe thead th {\n",
       "        text-align: right;\n",
       "    }\n",
       "</style>\n",
       "<table border=\"1\" class=\"dataframe\">\n",
       "  <thead>\n",
       "    <tr style=\"text-align: right;\">\n",
       "      <th></th>\n",
       "      <th>MSSubClass</th>\n",
       "      <th>MSZoning</th>\n",
       "      <th>LotFrontage</th>\n",
       "      <th>LotArea</th>\n",
       "      <th>Street</th>\n",
       "      <th>Alley</th>\n",
       "      <th>LotShape</th>\n",
       "      <th>LandContour</th>\n",
       "      <th>Utilities</th>\n",
       "      <th>LotConfig</th>\n",
       "      <th>...</th>\n",
       "      <th>PoolArea</th>\n",
       "      <th>PoolQC</th>\n",
       "      <th>Fence</th>\n",
       "      <th>MiscFeature</th>\n",
       "      <th>MiscVal</th>\n",
       "      <th>MoSold</th>\n",
       "      <th>YrSold</th>\n",
       "      <th>SaleType</th>\n",
       "      <th>SaleCondition</th>\n",
       "      <th>SalePrice</th>\n",
       "    </tr>\n",
       "    <tr>\n",
       "      <th>Id</th>\n",
       "      <th></th>\n",
       "      <th></th>\n",
       "      <th></th>\n",
       "      <th></th>\n",
       "      <th></th>\n",
       "      <th></th>\n",
       "      <th></th>\n",
       "      <th></th>\n",
       "      <th></th>\n",
       "      <th></th>\n",
       "      <th></th>\n",
       "      <th></th>\n",
       "      <th></th>\n",
       "      <th></th>\n",
       "      <th></th>\n",
       "      <th></th>\n",
       "      <th></th>\n",
       "      <th></th>\n",
       "      <th></th>\n",
       "      <th></th>\n",
       "      <th></th>\n",
       "    </tr>\n",
       "  </thead>\n",
       "  <tbody>\n",
       "    <tr>\n",
       "      <th>1</th>\n",
       "      <td>60</td>\n",
       "      <td>RL</td>\n",
       "      <td>65.0</td>\n",
       "      <td>8450</td>\n",
       "      <td>Pave</td>\n",
       "      <td>NaN</td>\n",
       "      <td>Reg</td>\n",
       "      <td>Lvl</td>\n",
       "      <td>AllPub</td>\n",
       "      <td>Inside</td>\n",
       "      <td>...</td>\n",
       "      <td>0</td>\n",
       "      <td>NaN</td>\n",
       "      <td>NaN</td>\n",
       "      <td>NaN</td>\n",
       "      <td>0</td>\n",
       "      <td>2</td>\n",
       "      <td>2008</td>\n",
       "      <td>WD</td>\n",
       "      <td>Normal</td>\n",
       "      <td>208500</td>\n",
       "    </tr>\n",
       "    <tr>\n",
       "      <th>2</th>\n",
       "      <td>20</td>\n",
       "      <td>RL</td>\n",
       "      <td>80.0</td>\n",
       "      <td>9600</td>\n",
       "      <td>Pave</td>\n",
       "      <td>NaN</td>\n",
       "      <td>Reg</td>\n",
       "      <td>Lvl</td>\n",
       "      <td>AllPub</td>\n",
       "      <td>FR2</td>\n",
       "      <td>...</td>\n",
       "      <td>0</td>\n",
       "      <td>NaN</td>\n",
       "      <td>NaN</td>\n",
       "      <td>NaN</td>\n",
       "      <td>0</td>\n",
       "      <td>5</td>\n",
       "      <td>2007</td>\n",
       "      <td>WD</td>\n",
       "      <td>Normal</td>\n",
       "      <td>181500</td>\n",
       "    </tr>\n",
       "    <tr>\n",
       "      <th>3</th>\n",
       "      <td>60</td>\n",
       "      <td>RL</td>\n",
       "      <td>68.0</td>\n",
       "      <td>11250</td>\n",
       "      <td>Pave</td>\n",
       "      <td>NaN</td>\n",
       "      <td>IR1</td>\n",
       "      <td>Lvl</td>\n",
       "      <td>AllPub</td>\n",
       "      <td>Inside</td>\n",
       "      <td>...</td>\n",
       "      <td>0</td>\n",
       "      <td>NaN</td>\n",
       "      <td>NaN</td>\n",
       "      <td>NaN</td>\n",
       "      <td>0</td>\n",
       "      <td>9</td>\n",
       "      <td>2008</td>\n",
       "      <td>WD</td>\n",
       "      <td>Normal</td>\n",
       "      <td>223500</td>\n",
       "    </tr>\n",
       "    <tr>\n",
       "      <th>4</th>\n",
       "      <td>70</td>\n",
       "      <td>RL</td>\n",
       "      <td>60.0</td>\n",
       "      <td>9550</td>\n",
       "      <td>Pave</td>\n",
       "      <td>NaN</td>\n",
       "      <td>IR1</td>\n",
       "      <td>Lvl</td>\n",
       "      <td>AllPub</td>\n",
       "      <td>Corner</td>\n",
       "      <td>...</td>\n",
       "      <td>0</td>\n",
       "      <td>NaN</td>\n",
       "      <td>NaN</td>\n",
       "      <td>NaN</td>\n",
       "      <td>0</td>\n",
       "      <td>2</td>\n",
       "      <td>2006</td>\n",
       "      <td>WD</td>\n",
       "      <td>Abnorml</td>\n",
       "      <td>140000</td>\n",
       "    </tr>\n",
       "    <tr>\n",
       "      <th>5</th>\n",
       "      <td>60</td>\n",
       "      <td>RL</td>\n",
       "      <td>84.0</td>\n",
       "      <td>14260</td>\n",
       "      <td>Pave</td>\n",
       "      <td>NaN</td>\n",
       "      <td>IR1</td>\n",
       "      <td>Lvl</td>\n",
       "      <td>AllPub</td>\n",
       "      <td>FR2</td>\n",
       "      <td>...</td>\n",
       "      <td>0</td>\n",
       "      <td>NaN</td>\n",
       "      <td>NaN</td>\n",
       "      <td>NaN</td>\n",
       "      <td>0</td>\n",
       "      <td>12</td>\n",
       "      <td>2008</td>\n",
       "      <td>WD</td>\n",
       "      <td>Normal</td>\n",
       "      <td>250000</td>\n",
       "    </tr>\n",
       "  </tbody>\n",
       "</table>\n",
       "<p>5 rows × 80 columns</p>\n",
       "</div>"
      ],
      "text/plain": [
       "    MSSubClass MSZoning  LotFrontage  LotArea Street Alley LotShape  \\\n",
       "Id                                                                    \n",
       "1           60       RL         65.0     8450   Pave   NaN      Reg   \n",
       "2           20       RL         80.0     9600   Pave   NaN      Reg   \n",
       "3           60       RL         68.0    11250   Pave   NaN      IR1   \n",
       "4           70       RL         60.0     9550   Pave   NaN      IR1   \n",
       "5           60       RL         84.0    14260   Pave   NaN      IR1   \n",
       "\n",
       "   LandContour Utilities LotConfig  ... PoolArea PoolQC Fence MiscFeature  \\\n",
       "Id                                  ...                                     \n",
       "1          Lvl    AllPub    Inside  ...        0    NaN   NaN         NaN   \n",
       "2          Lvl    AllPub       FR2  ...        0    NaN   NaN         NaN   \n",
       "3          Lvl    AllPub    Inside  ...        0    NaN   NaN         NaN   \n",
       "4          Lvl    AllPub    Corner  ...        0    NaN   NaN         NaN   \n",
       "5          Lvl    AllPub       FR2  ...        0    NaN   NaN         NaN   \n",
       "\n",
       "   MiscVal MoSold  YrSold  SaleType  SaleCondition  SalePrice  \n",
       "Id                                                             \n",
       "1        0      2    2008        WD         Normal     208500  \n",
       "2        0      5    2007        WD         Normal     181500  \n",
       "3        0      9    2008        WD         Normal     223500  \n",
       "4        0      2    2006        WD        Abnorml     140000  \n",
       "5        0     12    2008        WD         Normal     250000  \n",
       "\n",
       "[5 rows x 80 columns]"
      ]
     },
     "execution_count": 4,
     "metadata": {},
     "output_type": "execute_result"
    }
   ],
   "source": [
    "X_train_full.head()"
   ]
  },
  {
   "cell_type": "code",
   "execution_count": 5,
   "id": "e3509317",
   "metadata": {
    "scrolled": true
   },
   "outputs": [
    {
     "data": {
      "image/png": "[encoded data removed]",
      "text/plain": [
       "<Figure size 432x288 with 1 Axes>"
      ]
     },
     "metadata": {
      "needs_background": "light"
     },
     "output_type": "display_data"
    }
   ],
   "source": [
    "#Зависимость жилой площади от цены\n",
    "sns.scatterplot(x=X_train_full['GrLivArea'], y=X_train_full['SalePrice']);"
   ]
  },
  {
   "cell_type": "code",
   "execution_count": 6,
   "id": "6f1c7a12",
   "metadata": {},
   "outputs": [
    {
     "data": {
      "image/png": "[encoded data removed]",
      "text/plain": [
       "<Figure size 432x288 with 1 Axes>"
      ]
     },
     "metadata": {
      "needs_background": "light"
     },
     "output_type": "display_data"
    }
   ],
   "source": [
    "#Удаляем выбросы \n",
    "X_train_full = X_train_full.query('GrLivArea < 4000 & SalePrice <600000')\n",
    "sns.scatterplot(x=X_train_full['GrLivArea'], y=X_train_full['SalePrice']);"
   ]
  },
  {
   "cell_type": "code",
   "execution_count": 7,
   "id": "f815bb88",
   "metadata": {},
   "outputs": [
    {
     "data": {
      "image/png": "[encoded data removed]",
      "text/plain": [
       "<Figure size 1080x720 with 2 Axes>"
      ]
     },
     "metadata": {
      "needs_background": "light"
     },
     "output_type": "display_data"
    }
   ],
   "source": [
    "#Распределение целевого признака\n",
    "plt.figure(figsize=(15, 10)).suptitle('Распределение целевого признака', fontsize = 20)   \n",
    "plt.subplot(2, 2, 1)\n",
    "X_train_full['SalePrice'].hist()\n",
    "plt.xlabel('SalePrice')\n",
    "plt.ylabel('Frequencies');\n",
    "\n",
    "#Стабилизируем дисперсию\n",
    "y_train_full = np.log1p(X_train_full['SalePrice'])\n",
    "\n",
    "plt.subplot(2, 2, 2)\n",
    "y_train_full.hist()\n",
    "plt.xlabel('SalePrice')\n",
    "plt.ylabel('Frequencies');"
   ]
  },
  {
   "cell_type": "code",
   "execution_count": 8,
   "id": "ad453c3c",
   "metadata": {},
   "outputs": [],
   "source": [
    "data = pd.concat([X_train_full, X_test], axis=0).drop('SalePrice', axis=1)\n",
    "train_size = X_train_full.shape[0]"
   ]
  },
  {
   "cell_type": "code",
   "execution_count": 9,
   "id": "a7000b43",
   "metadata": {},
   "outputs": [
    {
     "name": "stdout",
     "output_type": "stream",
     "text": [
      "<class 'pandas.core.frame.DataFrame'>\n",
      "Int64Index: 2913 entries, 1 to 2919\n",
      "Data columns (total 79 columns):\n",
      " #   Column         Non-Null Count  Dtype  \n",
      "---  ------         --------------  -----  \n",
      " 0   MSSubClass     2913 non-null   int64  \n",
      " 1   MSZoning       2909 non-null   object \n",
      " 2   LotFrontage    2427 non-null   float64\n",
      " 3   LotArea        2913 non-null   int64  \n",
      " 4   Street         2913 non-null   object \n",
      " 5   Alley          198 non-null    object \n",
      " 6   LotShape       2913 non-null   object \n",
      " 7   LandContour    2913 non-null   object \n",
      " 8   Utilities      2911 non-null   object \n",
      " 9   LotConfig      2913 non-null   object \n",
      " 10  LandSlope      2913 non-null   object \n",
      " 11  Neighborhood   2913 non-null   object \n",
      " 12  Condition1     2913 non-null   object \n",
      " 13  Condition2     2913 non-null   object \n",
      " 14  BldgType       2913 non-null   object \n",
      " 15  HouseStyle     2913 non-null   object \n",
      " 16  OverallQual    2913 non-null   int64  \n",
      " 17  OverallCond    2913 non-null   int64  \n",
      " 18  YearBuilt      2913 non-null   int64  \n",
      " 19  YearRemodAdd   2913 non-null   int64  \n",
      " 20  RoofStyle      2913 non-null   object \n",
      " 21  RoofMatl       2913 non-null   object \n",
      " 22  Exterior1st    2912 non-null   object \n",
      " 23  Exterior2nd    2912 non-null   object \n",
      " 24  MasVnrType     2889 non-null   object \n",
      " 25  MasVnrArea     2890 non-null   float64\n",
      " 26  ExterQual      2913 non-null   object \n",
      " 27  ExterCond      2913 non-null   object \n",
      " 28  Foundation     2913 non-null   object \n",
      " 29  BsmtQual       2832 non-null   object \n",
      " 30  BsmtCond       2831 non-null   object \n",
      " 31  BsmtExposure   2831 non-null   object \n",
      " 32  BsmtFinType1   2834 non-null   object \n",
      " 33  BsmtFinSF1     2912 non-null   float64\n",
      " 34  BsmtFinType2   2833 non-null   object \n",
      " 35  BsmtFinSF2     2912 non-null   float64\n",
      " 36  BsmtUnfSF      2912 non-null   float64\n",
      " 37  TotalBsmtSF    2912 non-null   float64\n",
      " 38  Heating        2913 non-null   object \n",
      " 39  HeatingQC      2913 non-null   object \n",
      " 40  CentralAir     2913 non-null   object \n",
      " 41  Electrical     2912 non-null   object \n",
      " 42  1stFlrSF       2913 non-null   int64  \n",
      " 43  2ndFlrSF       2913 non-null   int64  \n",
      " 44  LowQualFinSF   2913 non-null   int64  \n",
      " 45  GrLivArea      2913 non-null   int64  \n",
      " 46  BsmtFullBath   2911 non-null   float64\n",
      " 47  BsmtHalfBath   2911 non-null   float64\n",
      " 48  FullBath       2913 non-null   int64  \n",
      " 49  HalfBath       2913 non-null   int64  \n",
      " 50  BedroomAbvGr   2913 non-null   int64  \n",
      " 51  KitchenAbvGr   2913 non-null   int64  \n",
      " 52  KitchenQual    2912 non-null   object \n",
      " 53  TotRmsAbvGrd   2913 non-null   int64  \n",
      " 54  Functional     2911 non-null   object \n",
      " 55  Fireplaces     2913 non-null   int64  \n",
      " 56  FireplaceQu    1493 non-null   object \n",
      " 57  GarageType     2756 non-null   object \n",
      " 58  GarageYrBlt    2754 non-null   float64\n",
      " 59  GarageFinish   2754 non-null   object \n",
      " 60  GarageCars     2912 non-null   float64\n",
      " 61  GarageArea     2912 non-null   float64\n",
      " 62  GarageQual     2754 non-null   object \n",
      " 63  GarageCond     2754 non-null   object \n",
      " 64  PavedDrive     2913 non-null   object \n",
      " 65  WoodDeckSF     2913 non-null   int64  \n",
      " 66  OpenPorchSF    2913 non-null   int64  \n",
      " 67  EnclosedPorch  2913 non-null   int64  \n",
      " 68  3SsnPorch      2913 non-null   int64  \n",
      " 69  ScreenPorch    2913 non-null   int64  \n",
      " 70  PoolArea       2913 non-null   int64  \n",
      " 71  PoolQC         8 non-null      object \n",
      " 72  Fence          570 non-null    object \n",
      " 73  MiscFeature    105 non-null    object \n",
      " 74  MiscVal        2913 non-null   int64  \n",
      " 75  MoSold         2913 non-null   int64  \n",
      " 76  YrSold         2913 non-null   int64  \n",
      " 77  SaleType       2912 non-null   object \n",
      " 78  SaleCondition  2913 non-null   object \n",
      "dtypes: float64(11), int64(25), object(43)\n",
      "memory usage: 1.8+ MB\n"
     ]
    }
   ],
   "source": [
    "data.info()"
   ]
  },
  {
   "cell_type": "markdown",
   "id": "ba327b2f",
   "metadata": {},
   "source": [
    "<h3 align='left'>Предобработка </h3>"
   ]
  },
  {
   "cell_type": "code",
   "execution_count": 10,
   "id": "da965b84",
   "metadata": {
    "scrolled": true
   },
   "outputs": [
    {
     "data": {
      "text/html": [
       "<div>\n",
       "<style scoped>\n",
       "    .dataframe tbody tr th:only-of-type {\n",
       "        vertical-align: middle;\n",
       "    }\n",
       "\n",
       "    .dataframe tbody tr th {\n",
       "        vertical-align: top;\n",
       "    }\n",
       "\n",
       "    .dataframe thead th {\n",
       "        text-align: right;\n",
       "    }\n",
       "</style>\n",
       "<table border=\"1\" class=\"dataframe\">\n",
       "  <thead>\n",
       "    <tr style=\"text-align: right;\">\n",
       "      <th></th>\n",
       "      <th>NA_count</th>\n",
       "    </tr>\n",
       "  </thead>\n",
       "  <tbody>\n",
       "    <tr>\n",
       "      <th>PoolQC</th>\n",
       "      <td>99.725369</td>\n",
       "    </tr>\n",
       "    <tr>\n",
       "      <th>MiscFeature</th>\n",
       "      <td>96.395469</td>\n",
       "    </tr>\n",
       "    <tr>\n",
       "      <th>Alley</th>\n",
       "      <td>93.202884</td>\n",
       "    </tr>\n",
       "    <tr>\n",
       "      <th>Fence</th>\n",
       "      <td>80.432544</td>\n",
       "    </tr>\n",
       "    <tr>\n",
       "      <th>FireplaceQu</th>\n",
       "      <td>48.746996</td>\n",
       "    </tr>\n",
       "    <tr>\n",
       "      <th>LotFrontage</th>\n",
       "      <td>16.683831</td>\n",
       "    </tr>\n",
       "    <tr>\n",
       "      <th>GarageYrBlt</th>\n",
       "      <td>5.458290</td>\n",
       "    </tr>\n",
       "    <tr>\n",
       "      <th>GarageFinish</th>\n",
       "      <td>5.458290</td>\n",
       "    </tr>\n",
       "    <tr>\n",
       "      <th>GarageQual</th>\n",
       "      <td>5.458290</td>\n",
       "    </tr>\n",
       "    <tr>\n",
       "      <th>GarageCond</th>\n",
       "      <td>5.458290</td>\n",
       "    </tr>\n",
       "    <tr>\n",
       "      <th>GarageType</th>\n",
       "      <td>5.389633</td>\n",
       "    </tr>\n",
       "    <tr>\n",
       "      <th>BsmtExposure</th>\n",
       "      <td>2.814967</td>\n",
       "    </tr>\n",
       "    <tr>\n",
       "      <th>BsmtCond</th>\n",
       "      <td>2.814967</td>\n",
       "    </tr>\n",
       "    <tr>\n",
       "      <th>BsmtQual</th>\n",
       "      <td>2.780639</td>\n",
       "    </tr>\n",
       "    <tr>\n",
       "      <th>BsmtFinType2</th>\n",
       "      <td>2.746310</td>\n",
       "    </tr>\n",
       "    <tr>\n",
       "      <th>BsmtFinType1</th>\n",
       "      <td>2.711981</td>\n",
       "    </tr>\n",
       "    <tr>\n",
       "      <th>MasVnrType</th>\n",
       "      <td>0.823893</td>\n",
       "    </tr>\n",
       "    <tr>\n",
       "      <th>MasVnrArea</th>\n",
       "      <td>0.789564</td>\n",
       "    </tr>\n",
       "    <tr>\n",
       "      <th>MSZoning</th>\n",
       "      <td>0.137315</td>\n",
       "    </tr>\n",
       "    <tr>\n",
       "      <th>Functional</th>\n",
       "      <td>0.068658</td>\n",
       "    </tr>\n",
       "    <tr>\n",
       "      <th>BsmtHalfBath</th>\n",
       "      <td>0.068658</td>\n",
       "    </tr>\n",
       "    <tr>\n",
       "      <th>BsmtFullBath</th>\n",
       "      <td>0.068658</td>\n",
       "    </tr>\n",
       "    <tr>\n",
       "      <th>Utilities</th>\n",
       "      <td>0.068658</td>\n",
       "    </tr>\n",
       "    <tr>\n",
       "      <th>SaleType</th>\n",
       "      <td>0.034329</td>\n",
       "    </tr>\n",
       "    <tr>\n",
       "      <th>BsmtFinSF1</th>\n",
       "      <td>0.034329</td>\n",
       "    </tr>\n",
       "    <tr>\n",
       "      <th>KitchenQual</th>\n",
       "      <td>0.034329</td>\n",
       "    </tr>\n",
       "    <tr>\n",
       "      <th>GarageCars</th>\n",
       "      <td>0.034329</td>\n",
       "    </tr>\n",
       "    <tr>\n",
       "      <th>BsmtUnfSF</th>\n",
       "      <td>0.034329</td>\n",
       "    </tr>\n",
       "    <tr>\n",
       "      <th>TotalBsmtSF</th>\n",
       "      <td>0.034329</td>\n",
       "    </tr>\n",
       "    <tr>\n",
       "      <th>Exterior2nd</th>\n",
       "      <td>0.034329</td>\n",
       "    </tr>\n",
       "    <tr>\n",
       "      <th>Exterior1st</th>\n",
       "      <td>0.034329</td>\n",
       "    </tr>\n",
       "    <tr>\n",
       "      <th>GarageArea</th>\n",
       "      <td>0.034329</td>\n",
       "    </tr>\n",
       "    <tr>\n",
       "      <th>Electrical</th>\n",
       "      <td>0.034329</td>\n",
       "    </tr>\n",
       "    <tr>\n",
       "      <th>BsmtFinSF2</th>\n",
       "      <td>0.034329</td>\n",
       "    </tr>\n",
       "  </tbody>\n",
       "</table>\n",
       "</div>"
      ],
      "text/plain": [
       "               NA_count\n",
       "PoolQC        99.725369\n",
       "MiscFeature   96.395469\n",
       "Alley         93.202884\n",
       "Fence         80.432544\n",
       "FireplaceQu   48.746996\n",
       "LotFrontage   16.683831\n",
       "GarageYrBlt    5.458290\n",
       "GarageFinish   5.458290\n",
       "GarageQual     5.458290\n",
       "GarageCond     5.458290\n",
       "GarageType     5.389633\n",
       "BsmtExposure   2.814967\n",
       "BsmtCond       2.814967\n",
       "BsmtQual       2.780639\n",
       "BsmtFinType2   2.746310\n",
       "BsmtFinType1   2.711981\n",
       "MasVnrType     0.823893\n",
       "MasVnrArea     0.789564\n",
       "MSZoning       0.137315\n",
       "Functional     0.068658\n",
       "BsmtHalfBath   0.068658\n",
       "BsmtFullBath   0.068658\n",
       "Utilities      0.068658\n",
       "SaleType       0.034329\n",
       "BsmtFinSF1     0.034329\n",
       "KitchenQual    0.034329\n",
       "GarageCars     0.034329\n",
       "BsmtUnfSF      0.034329\n",
       "TotalBsmtSF    0.034329\n",
       "Exterior2nd    0.034329\n",
       "Exterior1st    0.034329\n",
       "GarageArea     0.034329\n",
       "Electrical     0.034329\n",
       "BsmtFinSF2     0.034329"
      ]
     },
     "execution_count": 10,
     "metadata": {},
     "output_type": "execute_result"
    }
   ],
   "source": [
    "#Смотрим процент NA-значений в признаках\n",
    "na_features_perc = pd.DataFrame({'NA_count': 100 * data.isnull().sum().sort_values(ascending=False) / data.shape[0]})\n",
    "na_features_perc = na_features_perc.query('NA_count > 0')\n",
    "na_features_perc"
   ]
  },
  {
   "cell_type": "code",
   "execution_count": 11,
   "id": "267d9c34",
   "metadata": {
    "scrolled": true
   },
   "outputs": [
    {
     "data": {
      "text/plain": [
       "Index(['PoolQC', 'MiscFeature', 'Alley', 'Fence', 'FireplaceQu', 'LotFrontage',\n",
       "       'GarageYrBlt', 'GarageFinish', 'GarageQual', 'GarageCond', 'GarageType',\n",
       "       'BsmtExposure', 'BsmtCond', 'BsmtQual', 'BsmtFinType2', 'BsmtFinType1',\n",
       "       'MasVnrType', 'MasVnrArea', 'MSZoning', 'Functional', 'BsmtHalfBath',\n",
       "       'BsmtFullBath', 'Utilities', 'SaleType', 'BsmtFinSF1', 'KitchenQual',\n",
       "       'GarageCars', 'BsmtUnfSF', 'TotalBsmtSF', 'Exterior2nd', 'Exterior1st',\n",
       "       'GarageArea', 'Electrical', 'BsmtFinSF2'],\n",
       "      dtype='object')"
      ]
     },
     "execution_count": 11,
     "metadata": {},
     "output_type": "execute_result"
    }
   ],
   "source": [
    "na_features_perc.index"
   ]
  },
  {
   "cell_type": "code",
   "execution_count": 12,
   "id": "3d23cb6e",
   "metadata": {
    "scrolled": true
   },
   "outputs": [
    {
     "data": {
      "image/png": "[encoded data removed]",
      "text/plain": [
       "<Figure size 432x288 with 2 Axes>"
      ]
     },
     "metadata": {
      "needs_background": "light"
     },
     "output_type": "display_data"
    }
   ],
   "source": [
    "#График корреляции данных\n",
    "sns.heatmap(data.iloc[:train_size, :].corr());"
   ]
  },
  {
   "cell_type": "markdown",
   "id": "33dfa932",
   "metadata": {},
   "source": [
    "Переменные, где есть NA-значения чаще всего обозначают, что в продаваемом доме отсутствуют данные постройки/функции"
   ]
  },
  {
   "cell_type": "code",
   "execution_count": 13,
   "id": "80fe284b",
   "metadata": {},
   "outputs": [],
   "source": [
    "#Заменяем NA-значения в зависимости от типа переменной\n",
    "\n",
    "for i in ('PoolQC', 'MiscFeature', 'Alley', 'Fence', 'FireplaceQu', 'GarageType',\n",
    "          'GarageFinish', 'GarageQual', 'GarageCond', 'MasVnrType', 'MSSubClass', 'BsmtExposure',\n",
    "         'BsmtQual', 'BsmtCond', 'BsmtFinType1', 'BsmtFinType2'):\n",
    "    data[i] = data[i].fillna('None')\n",
    "\n",
    "    \n",
    "for i in ('GarageYrBlt', 'GarageArea', 'GarageCars', 'BsmtFinSF1', 'BsmtFinSF2', 'BsmtUnfSF', 'TotalBsmtSF', 'BsmtFullBath',\n",
    "          'BsmtHalfBath', 'MasVnrArea'):\n",
    "    data[i] = data[i].fillna(0)\n",
    "\n",
    "for i in ('MSZoning', 'Electrical', 'KitchenQual', 'Exterior1st', 'Exterior2nd', 'SaleType', 'Functional'):\n",
    "    data[i] = data[i].fillna(data[i].mode()[0])\n",
    "\n",
    "data[\"LotFrontage\"] = data.groupby('Neighborhood')['LotFrontage'].transform(\n",
    "    lambda x: x.fillna(x.median()))\n"
   ]
  },
  {
   "cell_type": "code",
   "execution_count": 14,
   "id": "eb758209",
   "metadata": {},
   "outputs": [
    {
     "data": {
      "text/plain": [
       "AllPub    2910\n",
       "NoSeWa       1\n",
       "Name: Utilities, dtype: int64"
      ]
     },
     "execution_count": 14,
     "metadata": {},
     "output_type": "execute_result"
    }
   ],
   "source": [
    "data['Utilities'].value_counts()"
   ]
  },
  {
   "cell_type": "code",
   "execution_count": 15,
   "id": "81fa82fe",
   "metadata": {},
   "outputs": [],
   "source": [
    "data = data.drop('Utilities', axis=1) #так как почти все значения одинаковы, удаляем переменную"
   ]
  },
  {
   "cell_type": "code",
   "execution_count": 16,
   "id": "ba46732d",
   "metadata": {},
   "outputs": [
    {
     "data": {
      "text/html": [
       "<div>\n",
       "<style scoped>\n",
       "    .dataframe tbody tr th:only-of-type {\n",
       "        vertical-align: middle;\n",
       "    }\n",
       "\n",
       "    .dataframe tbody tr th {\n",
       "        vertical-align: top;\n",
       "    }\n",
       "\n",
       "    .dataframe thead th {\n",
       "        text-align: right;\n",
       "    }\n",
       "</style>\n",
       "<table border=\"1\" class=\"dataframe\">\n",
       "  <thead>\n",
       "    <tr style=\"text-align: right;\">\n",
       "      <th></th>\n",
       "      <th>NA_count</th>\n",
       "    </tr>\n",
       "  </thead>\n",
       "  <tbody>\n",
       "  </tbody>\n",
       "</table>\n",
       "</div>"
      ],
      "text/plain": [
       "Empty DataFrame\n",
       "Columns: [NA_count]\n",
       "Index: []"
      ]
     },
     "execution_count": 16,
     "metadata": {},
     "output_type": "execute_result"
    }
   ],
   "source": [
    "#NA-значения отсутствуют\n",
    "na_features_perc = pd.DataFrame({'NA_count': 100 * data.isnull().sum().sort_values(ascending=False) / data.shape[0]})\n",
    "na_features_perc = na_features_perc.query('NA_count > 0')\n",
    "na_features_perc"
   ]
  },
  {
   "cell_type": "code",
   "execution_count": 17,
   "id": "00893781",
   "metadata": {
    "scrolled": false
   },
   "outputs": [
    {
     "name": "stdout",
     "output_type": "stream",
     "text": [
      "<class 'pandas.core.frame.DataFrame'>\n",
      "Int64Index: 2913 entries, 1 to 2919\n",
      "Data columns (total 78 columns):\n",
      " #   Column         Non-Null Count  Dtype  \n",
      "---  ------         --------------  -----  \n",
      " 0   MSSubClass     2913 non-null   int64  \n",
      " 1   MSZoning       2913 non-null   object \n",
      " 2   LotFrontage    2913 non-null   float64\n",
      " 3   LotArea        2913 non-null   int64  \n",
      " 4   Street         2913 non-null   object \n",
      " 5   Alley          2913 non-null   object \n",
      " 6   LotShape       2913 non-null   object \n",
      " 7   LandContour    2913 non-null   object \n",
      " 8   LotConfig      2913 non-null   object \n",
      " 9   LandSlope      2913 non-null   object \n",
      " 10  Neighborhood   2913 non-null   object \n",
      " 11  Condition1     2913 non-null   object \n",
      " 12  Condition2     2913 non-null   object \n",
      " 13  BldgType       2913 non-null   object \n",
      " 14  HouseStyle     2913 non-null   object \n",
      " 15  OverallQual    2913 non-null   int64  \n",
      " 16  OverallCond    2913 non-null   int64  \n",
      " 17  YearBuilt      2913 non-null   int64  \n",
      " 18  YearRemodAdd   2913 non-null   int64  \n",
      " 19  RoofStyle      2913 non-null   object \n",
      " 20  RoofMatl       2913 non-null   object \n",
      " 21  Exterior1st    2913 non-null   object \n",
      " 22  Exterior2nd    2913 non-null   object \n",
      " 23  MasVnrType     2913 non-null   object \n",
      " 24  MasVnrArea     2913 non-null   float64\n",
      " 25  ExterQual      2913 non-null   object \n",
      " 26  ExterCond      2913 non-null   object \n",
      " 27  Foundation     2913 non-null   object \n",
      " 28  BsmtQual       2913 non-null   object \n",
      " 29  BsmtCond       2913 non-null   object \n",
      " 30  BsmtExposure   2913 non-null   object \n",
      " 31  BsmtFinType1   2913 non-null   object \n",
      " 32  BsmtFinSF1     2913 non-null   float64\n",
      " 33  BsmtFinType2   2913 non-null   object \n",
      " 34  BsmtFinSF2     2913 non-null   float64\n",
      " 35  BsmtUnfSF      2913 non-null   float64\n",
      " 36  TotalBsmtSF    2913 non-null   float64\n",
      " 37  Heating        2913 non-null   object \n",
      " 38  HeatingQC      2913 non-null   object \n",
      " 39  CentralAir     2913 non-null   object \n",
      " 40  Electrical     2913 non-null   object \n",
      " 41  1stFlrSF       2913 non-null   int64  \n",
      " 42  2ndFlrSF       2913 non-null   int64  \n",
      " 43  LowQualFinSF   2913 non-null   int64  \n",
      " 44  GrLivArea      2913 non-null   int64  \n",
      " 45  BsmtFullBath   2913 non-null   float64\n",
      " 46  BsmtHalfBath   2913 non-null   float64\n",
      " 47  FullBath       2913 non-null   int64  \n",
      " 48  HalfBath       2913 non-null   int64  \n",
      " 49  BedroomAbvGr   2913 non-null   int64  \n",
      " 50  KitchenAbvGr   2913 non-null   int64  \n",
      " 51  KitchenQual    2913 non-null   object \n",
      " 52  TotRmsAbvGrd   2913 non-null   int64  \n",
      " 53  Functional     2913 non-null   object \n",
      " 54  Fireplaces     2913 non-null   int64  \n",
      " 55  FireplaceQu    2913 non-null   object \n",
      " 56  GarageType     2913 non-null   object \n",
      " 57  GarageYrBlt    2913 non-null   float64\n",
      " 58  GarageFinish   2913 non-null   object \n",
      " 59  GarageCars     2913 non-null   float64\n",
      " 60  GarageArea     2913 non-null   float64\n",
      " 61  GarageQual     2913 non-null   object \n",
      " 62  GarageCond     2913 non-null   object \n",
      " 63  PavedDrive     2913 non-null   object \n",
      " 64  WoodDeckSF     2913 non-null   int64  \n",
      " 65  OpenPorchSF    2913 non-null   int64  \n",
      " 66  EnclosedPorch  2913 non-null   int64  \n",
      " 67  3SsnPorch      2913 non-null   int64  \n",
      " 68  ScreenPorch    2913 non-null   int64  \n",
      " 69  PoolArea       2913 non-null   int64  \n",
      " 70  PoolQC         2913 non-null   object \n",
      " 71  Fence          2913 non-null   object \n",
      " 72  MiscFeature    2913 non-null   object \n",
      " 73  MiscVal        2913 non-null   int64  \n",
      " 74  MoSold         2913 non-null   int64  \n",
      " 75  YrSold         2913 non-null   int64  \n",
      " 76  SaleType       2913 non-null   object \n",
      " 77  SaleCondition  2913 non-null   object \n",
      "dtypes: float64(11), int64(25), object(42)\n",
      "memory usage: 1.8+ MB\n"
     ]
    }
   ],
   "source": [
    "data.info()"
   ]
  },
  {
   "cell_type": "code",
   "execution_count": 18,
   "id": "fa39978b",
   "metadata": {},
   "outputs": [],
   "source": [
    "#Label Encoding категориальных признаков\n",
    "X_train_full = data.iloc[:train_size, :]\n",
    "X_test = data.iloc[train_size:, :]\n",
    "for i in data.columns:\n",
    "    if data[i].dtype == 'object':\n",
    "        le = LabelEncoder()\n",
    "        X_train_full[i] = le.fit_transform(X_train_full[i])\n",
    "        X_test[i] = le.transform(X_test[i])"
   ]
  },
  {
   "cell_type": "markdown",
   "id": "b20a77d0",
   "metadata": {},
   "source": [
    "<h3 align='left'>Подготовка данных</h3>"
   ]
  },
  {
   "cell_type": "code",
   "execution_count": 19,
   "id": "b3a57a9a",
   "metadata": {},
   "outputs": [],
   "source": [
    "##Разделяем train, valid\n",
    "X_train, X_valid, y_train, y_valid = train_test_split(X_train_full, y_train_full, test_size=0.2, random_state=17) "
   ]
  },
  {
   "cell_type": "code",
   "execution_count": 20,
   "id": "67f07f55",
   "metadata": {},
   "outputs": [],
   "source": [
    "#Задаем кросс-валидатор и диапазон значений гиперпараметров для поиска \n",
    "cv = KFold(shuffle=True)\n",
    "\n",
    "RF_params = {\n",
    "    'max_depth': range(3, 15, 2),\n",
    "    'min_samples_leaf': range(1, 4),\n",
    "    'min_samples_split': range(2, 8, 2),\n",
    "    \n",
    "}\n",
    "\n",
    "GB_params = {\n",
    "    'learning_rate': np.arange(0.05, 0.35, 0.05),\n",
    "    'max_depth': range(3, 15, 2),\n",
    "    'min_child_weight': range(3, 9, 2),\n",
    "    'gamma': np.arange(0, 0.5, 0.1),\n",
    "    'colsample_bytree': np.arange(0.3, 0.8, 0.1)\n",
    "}"
   ]
  },
  {
   "cell_type": "markdown",
   "id": "ab1ac234",
   "metadata": {},
   "source": [
    "## RandomForest"
   ]
  },
  {
   "cell_type": "code",
   "execution_count": 34,
   "id": "45a4169b",
   "metadata": {},
   "outputs": [
    {
     "data": {
      "text/plain": [
       "RandomizedSearchCV(cv=KFold(n_splits=5, random_state=RandomState(MT19937) at 0x2085240E940,\n",
       "   shuffle=True),\n",
       "                   estimator=RandomForestRegressor(n_estimators=200), n_jobs=-1,\n",
       "                   param_distributions={'max_depth': range(3, 15, 2),\n",
       "                                        'min_samples_leaf': range(1, 4),\n",
       "                                        'min_samples_split': range(2, 8, 2)},\n",
       "                   random_state=17)"
      ]
     },
     "execution_count": 34,
     "metadata": {},
     "output_type": "execute_result"
    }
   ],
   "source": [
    "rf_reg = RandomForestRegressor(n_estimators=200)\n",
    "rf_searh = RandomizedSearchCV(rf_reg, RF_params, cv=cv, n_jobs=-1, random_state=17)\n",
    "rf_searh.fit(X_train, y_train)"
   ]
  },
  {
   "cell_type": "code",
   "execution_count": 35,
   "id": "d031cfe7",
   "metadata": {
    "scrolled": true
   },
   "outputs": [
    {
     "data": {
      "text/plain": [
       "0.01661489247906781"
      ]
     },
     "execution_count": 35,
     "metadata": {},
     "output_type": "execute_result"
    }
   ],
   "source": [
    "rf_prediction = rf_searh.predict(X_valid)\n",
    "mean_squared_error(y_valid, rf_prediction)"
   ]
  },
  {
   "cell_type": "markdown",
   "id": "55d25c92",
   "metadata": {},
   "source": [
    "## XGBRegressor"
   ]
  },
  {
   "cell_type": "code",
   "execution_count": 36,
   "id": "210d05fa",
   "metadata": {},
   "outputs": [
    {
     "data": {
      "text/plain": [
       "RandomizedSearchCV(cv=KFold(n_splits=5, random_state=RandomState(MT19937) at 0x2085240E940,\n",
       "   shuffle=True),\n",
       "                   estimator=XGBRegressor(base_score=None, booster=None,\n",
       "                                          colsample_bylevel=None,\n",
       "                                          colsample_bynode=None,\n",
       "                                          colsample_bytree=None,\n",
       "                                          enable_categorical=False, gamma=None,\n",
       "                                          gpu_id=None, importance_type=None,\n",
       "                                          interaction_constraints=None,\n",
       "                                          learning_rate=None,\n",
       "                                          max_delta_st...\n",
       "                                          reg_alpha=None, reg_lambda=None,\n",
       "                                          scale_pos_weight=None, subsample=None,\n",
       "                                          tree_method=None,\n",
       "                                          validate_parameters=None,\n",
       "                                          verbosity=None),\n",
       "                   n_jobs=-1,\n",
       "                   param_distributions={'colsample_bytree': array([0.3, 0.4, 0.5, 0.6, 0.7]),\n",
       "                                        'gamma': array([0. , 0.1, 0.2, 0.3, 0.4]),\n",
       "                                        'learning_rate': array([0.05, 0.1 , 0.15, 0.2 , 0.25, 0.3 ]),\n",
       "                                        'max_depth': range(3, 15, 2),\n",
       "                                        'min_child_weight': range(3, 9, 2)},\n",
       "                   random_state=17)"
      ]
     },
     "execution_count": 36,
     "metadata": {},
     "output_type": "execute_result"
    }
   ],
   "source": [
    "xgb_reg = XGBRegressor(n_estimators=200)\n",
    "xgb_searh = RandomizedSearchCV(xgb_reg, GB_params, cv=cv, n_jobs=-1, random_state=17)\n",
    "xgb_searh.fit(X_train, y_train)"
   ]
  },
  {
   "cell_type": "code",
   "execution_count": 37,
   "id": "cb6af385",
   "metadata": {},
   "outputs": [
    {
     "data": {
      "text/plain": [
       "0.014061682053819692"
      ]
     },
     "execution_count": 37,
     "metadata": {},
     "output_type": "execute_result"
    }
   ],
   "source": [
    "xgb_prediction = xgb_searh.predict(X_valid)\n",
    "mean_squared_error(y_valid, xgb_prediction)"
   ]
  },
  {
   "cell_type": "markdown",
   "id": "38c59177",
   "metadata": {},
   "source": [
    "## LGBMRegressor"
   ]
  },
  {
   "cell_type": "code",
   "execution_count": 38,
   "id": "15ca0579",
   "metadata": {},
   "outputs": [
    {
     "data": {
      "text/plain": [
       "RandomizedSearchCV(cv=KFold(n_splits=5, random_state=RandomState(MT19937) at 0x2085240E940,\n",
       "   shuffle=True),\n",
       "                   estimator=LGBMRegressor(n_estimators=200), n_jobs=-1,\n",
       "                   param_distributions={'colsample_bytree': array([0.3, 0.4, 0.5, 0.6, 0.7]),\n",
       "                                        'gamma': array([0. , 0.1, 0.2, 0.3, 0.4]),\n",
       "                                        'learning_rate': array([0.05, 0.1 , 0.15, 0.2 , 0.25, 0.3 ]),\n",
       "                                        'max_depth': range(3, 15, 2),\n",
       "                                        'min_child_weight': range(3, 9, 2)},\n",
       "                   random_state=17)"
      ]
     },
     "execution_count": 38,
     "metadata": {},
     "output_type": "execute_result"
    }
   ],
   "source": [
    "lgb_reg = LGBMRegressor(n_estimators=200)\n",
    "lgb_searh = RandomizedSearchCV(lgb_reg, GB_params, cv=cv, n_jobs=-1, random_state=17)\n",
    "lgb_searh.fit(X_train, y_train)"
   ]
  },
  {
   "cell_type": "code",
   "execution_count": 46,
   "id": "b10606a0",
   "metadata": {},
   "outputs": [
    {
     "data": {
      "text/plain": [
       "0.013581310568143481"
      ]
     },
     "execution_count": 46,
     "metadata": {},
     "output_type": "execute_result"
    }
   ],
   "source": [
    "lgb_prediction = lgb_searh.predict(X_valid)\n",
    "mean_squared_error(y_valid, lgb_prediction)"
   ]
  },
  {
   "cell_type": "markdown",
   "id": "c780524d",
   "metadata": {},
   "source": [
    "## Stacking"
   ]
  },
  {
   "cell_type": "code",
   "execution_count": 42,
   "id": "0d3204fb",
   "metadata": {},
   "outputs": [
    {
     "data": {
      "text/plain": [
       "0.013393626011955444"
      ]
     },
     "execution_count": 42,
     "metadata": {},
     "output_type": "execute_result"
    }
   ],
   "source": [
    "estimators = [\n",
    "        ('xgb', XGBRegressor(n_estimators=2000, **xgb_searh.best_params_, random_state=17)),\n",
    "        ('lgb', LGBMRegressor(n_estimators=2000, **lgb_searh.best_params_, random_state=17)),\n",
    "        ('rf', RandomForestRegressor(n_estimators=2000, **rf_searh.best_params_, random_state=17))]\n",
    "\n",
    "\n",
    "stack = StackingRegressor(estimators=estimators, final_estimator=LinearRegression(), cv=cv, n_jobs=-1)\n",
    "stack.fit(X_train, y_train)\n",
    "stack_prediction = stack.predict(X_valid)\n",
    "mean_squared_error(y_valid, stack_prediction)"
   ]
  },
  {
   "cell_type": "markdown",
   "id": "32eccbd2",
   "metadata": {},
   "source": [
    "При стекинге результат улучшается, поэтому обучим модель стекинга на всех данных"
   ]
  },
  {
   "cell_type": "markdown",
   "id": "a4b69664",
   "metadata": {},
   "source": [
    "## Submission"
   ]
  },
  {
   "cell_type": "code",
   "execution_count": 43,
   "id": "581baf2d",
   "metadata": {},
   "outputs": [],
   "source": [
    "stack.fit(X_train_full, y_train_full)\n",
    "stack_prediction = stack.predict(X_test)"
   ]
  },
  {
   "cell_type": "code",
   "execution_count": 44,
   "id": "c155c7d5",
   "metadata": {},
   "outputs": [],
   "source": [
    "kaggle_sub(np.expm1(stack_prediction))\n",
    "\n",
    "#0.12868 Total RMSE "
   ]
  }
 ],
 "metadata": {
  "kernelspec": {
   "display_name": "Python 3 (ipykernel)",
   "language": "python",
   "name": "python3"
  },
  "language_info": {
   "codemirror_mode": {
    "name": "ipython",
    "version": 3
   },
   "file_extension": ".py",
   "mimetype": "text/x-python",
   "name": "python",
   "nbconvert_exporter": "python",
   "pygments_lexer": "ipython3",
   "version": "3.9.12"
  }
 },
 "nbformat": 4,
 "nbformat_minor": 5
}
