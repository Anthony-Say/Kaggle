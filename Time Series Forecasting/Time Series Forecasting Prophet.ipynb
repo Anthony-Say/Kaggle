{
 "cells": [
  {
   "cell_type": "code",
   "execution_count": 2,
   "id": "fd76097c",
   "metadata": {},
   "outputs": [],
   "source": [
    "import pandas as pd\n",
    "import sklearn\n",
    "import numpy as np\n",
    "from prophet import Prophet"
   ]
  },
  {
   "cell_type": "markdown",
   "id": "58ef2e6a",
   "metadata": {},
   "source": [
    "<h3 align='left'>Функция посылки</h3>"
   ]
  },
  {
   "cell_type": "code",
   "execution_count": 6,
   "id": "aebc8741",
   "metadata": {},
   "outputs": [],
   "source": [
    "def kaggle_sub(y_pred):\n",
    "    submission = pd.read_csv('sample_submission.csv')\n",
    "    submission['sales'] = y_pred\n",
    "    submission.to_csv('submission_prophet', index=False)"
   ]
  },
  {
   "cell_type": "markdown",
   "id": "5a72fc18",
   "metadata": {},
   "source": [
    "<h3 align='left'>Приводим заголовки в необходимый для Prophet вид</h3>"
   ]
  },
  {
   "cell_type": "code",
   "execution_count": null,
   "id": "1188048b",
   "metadata": {},
   "outputs": [],
   "source": [
    "test = pd.read_csv('test.csv', index_col='id').rename(columns={'date': 'ds', 'sales': 'y'})\n",
    "train = pd.read_csv('train.csv', index_col='id').rename(columns={'date': 'ds', 'sales': 'y'})"
   ]
  },
  {
   "cell_type": "code",
   "execution_count": null,
   "id": "11c016f3",
   "metadata": {},
   "outputs": [],
   "source": [
    "train['ds'] = pd.to_datetime(train['ds'])\n",
    "test['ds'] = pd.to_datetime(test['ds'])"
   ]
  },
  {
   "cell_type": "markdown",
   "id": "561251d6",
   "metadata": {},
   "source": [
    "<h3 align='left'>Для каждого магазина и семейства товаров делаем предсказания в цикле</h3>"
   ]
  },
  {
   "cell_type": "code",
   "execution_count": null,
   "id": "0e7a56f2",
   "metadata": {
    "scrolled": false
   },
   "outputs": [],
   "source": [
    "store_numbers = train['store_nbr'].nunique()\n",
    "store_families = train['family'].unique()\n",
    "prediction_df = pd.DataFrame()\n",
    "for i in range(1, store_numbers + 1):\n",
    "    for j in store_families:\n",
    "        train_store_ij = train[(train['store_nbr'] == i) & (train['family'] == j)][['ds', 'y']]\n",
    "        pr = Prophet()\n",
    "        pr.fit(train_store_ij)\n",
    "        future = pr.make_future_dataframe(periods=16, include_history=False)\n",
    "        predict = pr.predict(future)\n",
    "        predict['store_nbr'] = i\n",
    "        predict['family'] = j\n",
    "        predict_df = pd.concat([predict_df, predict])\n",
    "\n"
   ]
  },
  {
   "cell_type": "code",
   "execution_count": null,
   "id": "e148069c",
   "metadata": {},
   "outputs": [],
   "source": [
    "prediction = test.reset_index().merge(prediction_df, on=['ds', 'store_nbr', 'family'])[['id', 'yhat']]\\\n",
    "                               .rename(columns={'yhat': 'sales'})"
   ]
  },
  {
   "cell_type": "code",
   "execution_count": null,
   "id": "e1b8e47c",
   "metadata": {},
   "outputs": [],
   "source": [
    "prediction['sales'] = prediction['sales'].apply(lambda x: x if x>=0 else 0)"
   ]
  },
  {
   "cell_type": "markdown",
   "id": "63f58971",
   "metadata": {},
   "source": [
    "<h3 align='left'>Total rmsle-score 0.5152</h3>"
   ]
  }
 ],
 "metadata": {
  "kernelspec": {
   "display_name": "Python 3 (ipykernel)",
   "language": "python",
   "name": "python3"
  },
  "language_info": {
   "codemirror_mode": {
    "name": "ipython",
    "version": 3
   },
   "file_extension": ".py",
   "mimetype": "text/x-python",
   "name": "python",
   "nbconvert_exporter": "python",
   "pygments_lexer": "ipython3",
   "version": "3.9.12"
  }
 },
 "nbformat": 4,
 "nbformat_minor": 5
}
